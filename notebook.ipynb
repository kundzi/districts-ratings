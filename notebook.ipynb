{
 "cells": [
  {
   "cell_type": "code",
   "execution_count": null,
   "id": "ac2a4691",
   "metadata": {},
   "outputs": [],
   "source": [
    "import csv\n",
    "\n",
    "class RowModel:\n",
    "    def __init__(self, row, header):\n",
    "        self.__dict__ = dict(zip(header, row))\n",
    "        self.district = self.Valdistriktnamn.strip()\n",
    "        self.party = self.Parti.strip()\n",
    "        self.votes = int(self.Röster.strip())\n",
    "        \n",
    "    def __repr__(self):\n",
    "        return f'{self.district} {self.party} {self.votes}'\n",
    "    \n",
    "def previewDict(something):\n",
    "   for i in list(something.items())[0:3]:\n",
    "    print(i)\n",
    "        \n",
    "        \n",
    "data = list(csv.reader(open('data/as-utf-8.csv', encoding='utf-8'), delimiter = ';'))\n",
    "data[0:2]"
   ]
  },
  {
   "cell_type": "code",
   "execution_count": null,
   "id": "36147c6f",
   "metadata": {},
   "outputs": [],
   "source": [
    "instances = [RowModel(r, data[0]) for r in data[1:]]"
   ]
  },
  {
   "cell_type": "code",
   "execution_count": null,
   "id": "d26dec35",
   "metadata": {},
   "outputs": [],
   "source": [
    "validVotesPerDistrict = [rm  for rm in instances if rm.party == 'Summa giltiga röster']\n",
    "districtVotes = {}\n",
    "for rm in validVotesPerDistrict:\n",
    "    districtVotes[rm.district] = rm.votes\n",
    "previewDict(districtVotes)"
   ]
  },
  {
   "cell_type": "code",
   "execution_count": null,
   "id": "9ee639bf",
   "metadata": {},
   "outputs": [],
   "source": [
    "partiesWeights = {\n",
    "  'Moderaterna': 2,\n",
    "  'Arbetarepartiet-Socialdemokraterna': 1,\n",
    "  'Liberalerna (tidigare Folkpartiet)': 1,\n",
    "  'Miljöpartiet de gröna': -1,\n",
    "  'Sverigedemokraterna': -1,\n",
    "  'Vänsterpartiet': -2,\n",
    "  'Alternativ för Sverige' : -3,\n",
    "  'Partiet Nyans': -3                \n",
    "}\n",
    "\n",
    "interestingParties = set(partiesWeights.keys())\n",
    "\n",
    "interestingParties"
   ]
  },
  {
   "cell_type": "code",
   "execution_count": null,
   "id": "c089e63c",
   "metadata": {},
   "outputs": [],
   "source": [
    "onlyInterestingParties = [rm for rm in instances if rm.party in interestingParties]\n",
    "onlyInterestingParties[0:2]"
   ]
  },
  {
   "cell_type": "code",
   "execution_count": null,
   "id": "1743f864",
   "metadata": {},
   "outputs": [],
   "source": [
    "percentPerPartyPerDistrict = [(rm.party, \n",
    "                               rm.district,\n",
    "                               100*rm.votes/districtVotes[rm.district]\n",
    "                              )\n",
    "                             for rm in onlyInterestingParties]\n",
    "percentPerPartyPerDistrict[:2]"
   ]
  },
  {
   "cell_type": "markdown",
   "id": "b7a3dc7f",
   "metadata": {},
   "source": [
    "Now we have tuples: \n",
    "\n",
    "```Party | District | Percent in the district```\n",
    "\n",
    "We need to create: \n",
    "\n",
    "```Party | District | Percent in the district | Index of this district if sorted by percentage for the party```"
   ]
  },
  {
   "cell_type": "code",
   "execution_count": null,
   "id": "e60e6d13",
   "metadata": {},
   "outputs": [],
   "source": [
    "partyDistrictPercentPosition = {}\n",
    "for e in percentPerPartyPerDistrict:\n",
    "    party = e[0]\n",
    "    lst = partyDistrictPercentPosition[party] if party in partyDistrictPercentPosition else []\n",
    "    lst.append((e[1], e[2]))\n",
    "    partyDistrictPercentPosition[party] = lst\n",
    "\n",
    "for k,v in partyDistrictPercentPosition.items():\n",
    "    v.sort(key = lambda a: a[1], reverse = True)\n",
    "    \n",
    "previewDict(partyDistrictPercentPosition)"
   ]
  },
  {
   "cell_type": "code",
   "execution_count": null,
   "id": "dd0e9c93",
   "metadata": {},
   "outputs": [],
   "source": [
    "# party district percentage position\n",
    "finalTable = []\n",
    "for party, perDistrictRandingDecs in partyDistrictPercentPosition.items():\n",
    "    for position, districtAndPercentage in enumerate(perDistrictRandingDecs):\n",
    "        finalTable.append((party, districtAndPercentage[0], districtAndPercentage[1], position))\n",
    "        \n",
    "finalTable[0:2]"
   ]
  },
  {
   "cell_type": "markdown",
   "id": "e0650f40",
   "metadata": {},
   "source": [
    "To create ranking we need to know:\n",
    "\n",
    "For each district \n",
    "what party \n",
    "got what position\n",
    "\n",
    "then we make up a score from it"
   ]
  },
  {
   "cell_type": "code",
   "execution_count": null,
   "id": "1164a2a7",
   "metadata": {},
   "outputs": [],
   "source": [
    "districtToPartyRanking = {}\n",
    "for e in finalTable:\n",
    "    district = e[1]\n",
    "    party = e[0]\n",
    "    percent = e[2]\n",
    "    ranking = e[3]\n",
    "    \n",
    "    if district not in districtToPartyRanking:\n",
    "        districtToPartyRanking[district] = {}\n",
    "\n",
    "    districtToPartyRanking[district][party] = (ranking, percent)\n",
    "    \n",
    "previewDict(districtToPartyRanking)"
   ]
  },
  {
   "cell_type": "code",
   "execution_count": null,
   "id": "85185578",
   "metadata": {},
   "outputs": [],
   "source": [
    "def scoreByRank(district, ranks):\n",
    "    score = 0;\n",
    "    for party, weight in partiesWeights.items():\n",
    "        r = ranks[party][0] if party in ranks else len(districtToPartyRanking) - 1\n",
    "        score += (len(districtToPartyRanking) - r)*partiesWeights[party]\n",
    "    \n",
    "    return score\n",
    "\n",
    "def scoreByPercentage(district, ranks):\n",
    "    score = 0;\n",
    "    for party, weight in partiesWeights.items():\n",
    "        p = ranks[party][1] if party in ranks else 0\n",
    "        score += p*partiesWeights[party]\n",
    "    return score\n",
    "    \n",
    "\n",
    "districtToScore = []\n",
    "for district, ranks in districtToPartyRanking.items():\n",
    "    score = scoreByPercentage(district, ranks)\n",
    "    totalVotes = districtVotes[district]\n",
    "    districtToScore.append((district, score, ranks, totalVotes))\n",
    "    \n",
    "districtToScore.sort(reverse = True, key = lambda a: a[1])\n",
    "\n",
    "print(f'total districts = {len(districtToScore)}')\n",
    "\n",
    "from pprint import pprint\n",
    "\n",
    "for index, r in enumerate(districtToScore):\n",
    "    print(f'{index}')\n",
    "    pprint(r)\n",
    "    print()\n",
    "    "
   ]
  }
 ],
 "metadata": {
  "kernelspec": {
   "display_name": "Python 3 (ipykernel)",
   "language": "python",
   "name": "python3"
  },
  "language_info": {
   "codemirror_mode": {
    "name": "ipython",
    "version": 3
   },
   "file_extension": ".py",
   "mimetype": "text/x-python",
   "name": "python",
   "nbconvert_exporter": "python",
   "pygments_lexer": "ipython3",
   "version": "3.9.13"
  }
 },
 "nbformat": 4,
 "nbformat_minor": 5
}
